{
  "nbformat": 4,
  "nbformat_minor": 0,
  "metadata": {
    "colab": {
      "name": "Number_Reader_Model.ipynb",
      "provenance": [],
      "collapsed_sections": [],
      "include_colab_link": true
    },
    "kernelspec": {
      "name": "python3",
      "display_name": "Python 3"
    }
  },
  "cells": [
    {
      "cell_type": "markdown",
      "metadata": {
        "id": "view-in-github",
        "colab_type": "text"
      },
      "source": [
        "<a href=\"https://colab.research.google.com/github/Shanks1228/My_First_MLmodel_Number_Reader/blob/master/Number_Reader_Model.ipynb\" target=\"_parent\"><img src=\"https://colab.research.google.com/assets/colab-badge.svg\" alt=\"Open In Colab\"/></a>"
      ]
    },
    {
      "cell_type": "code",
      "metadata": {
        "id": "HLrOqH3Z1oOI",
        "colab_type": "code",
        "colab": {}
      },
      "source": [
        "import tensorflow as tf"
      ],
      "execution_count": 0,
      "outputs": []
    },
    {
      "cell_type": "code",
      "metadata": {
        "id": "wdlyVsV4-wwR",
        "colab_type": "code",
        "colab": {}
      },
      "source": [
        "mnist = tf.keras.datasets.mnist"
      ],
      "execution_count": 0,
      "outputs": []
    },
    {
      "cell_type": "code",
      "metadata": {
        "id": "PvApcjFk-5or",
        "colab_type": "code",
        "colab": {
          "base_uri": "https://localhost:8080/",
          "height": 52
        },
        "outputId": "ea88a5c9-d253-4d92-f05f-2087b74294f6"
      },
      "source": [
        "(x_train, y_train),(x_test, y_test) = mnist.load_data()"
      ],
      "execution_count": 4,
      "outputs": [
        {
          "output_type": "stream",
          "text": [
            "Downloading data from https://storage.googleapis.com/tensorflow/tf-keras-datasets/mnist.npz\n",
            "11493376/11490434 [==============================] - 0s 0us/step\n"
          ],
          "name": "stdout"
        }
      ]
    },
    {
      "cell_type": "code",
      "metadata": {
        "id": "hHU-4ZSc-6HX",
        "colab_type": "code",
        "colab": {
          "base_uri": "https://localhost:8080/",
          "height": 265
        },
        "outputId": "d378648b-a920-4c40-bc18-74abda0f45e4"
      },
      "source": [
        "import matplotlib.pyplot as plt\n",
        "\n",
        "plt.imshow(x_train[0], cmap = plt.cm.binary)\n",
        "plt.show()\n",
        "#print(x_train[0])"
      ],
      "execution_count": 13,
      "outputs": [
        {
          "output_type": "display_data",
          "data": {
            "image/png": "[encoded data removed]",
            "text/plain": [
              "<Figure size 432x288 with 1 Axes>"
            ]
          },
          "metadata": {
            "tags": []
          }
        }
      ]
    },
    {
      "cell_type": "code",
      "metadata": {
        "id": "zbG-TlHu_yGc",
        "colab_type": "code",
        "colab": {}
      },
      "source": [
        "x_train = tf.keras.utils.normalize(x_train, axis=1)\n",
        "x_test = tf.keras.utils.normalize(x_test, axis = 1)"
      ],
      "execution_count": 0,
      "outputs": []
    },
    {
      "cell_type": "code",
      "metadata": {
        "id": "6UW8wiQ0A2ya",
        "colab_type": "code",
        "colab": {
          "base_uri": "https://localhost:8080/",
          "height": 745
        },
        "outputId": "d950bd26-be06-45d6-c8b6-bc8949130de9"
      },
      "source": [
        "model = tf.keras.models.Sequential()\n",
        "model.add(tf.keras.layers.Flatten())\n",
        "model.add(tf.keras.layers.Dense(128,activation = tf.nn.relu))\n",
        "model.add(tf.keras.layers.Dense(128, activation = tf.nn.relu))\n",
        "model.add(tf.keras.layers.Dense(128,activation = tf.nn.softmax))\n",
        "model.compile(optimizer = 'adam', loss = 'sparse_categorical_crossentropy', metrics = ['accuracy'])\n",
        "model.fit(x_train, y_train, epochs = 20)"
      ],
      "execution_count": 17,
      "outputs": [
        {
          "output_type": "stream",
          "text": [
            "Train on 60000 samples\n",
            "Epoch 1/20\n",
            "60000/60000 [==============================] - 5s 91us/sample - loss: 0.3176 - acc: 0.9097\n",
            "Epoch 2/20\n",
            "60000/60000 [==============================] - 6s 93us/sample - loss: 0.1198 - acc: 0.9631\n",
            "Epoch 3/20\n",
            "60000/60000 [==============================] - 6s 92us/sample - loss: 0.0799 - acc: 0.9748\n",
            "Epoch 4/20\n",
            "60000/60000 [==============================] - 5s 91us/sample - loss: 0.0600 - acc: 0.9804\n",
            "Epoch 5/20\n",
            "60000/60000 [==============================] - 5s 90us/sample - loss: 0.0447 - acc: 0.9859\n",
            "Epoch 6/20\n",
            "60000/60000 [==============================] - 5s 90us/sample - loss: 0.0355 - acc: 0.9882\n",
            "Epoch 7/20\n",
            "60000/60000 [==============================] - 6s 93us/sample - loss: 0.0274 - acc: 0.9909\n",
            "Epoch 8/20\n",
            "60000/60000 [==============================] - 5s 90us/sample - loss: 0.0227 - acc: 0.9926\n",
            "Epoch 9/20\n",
            "60000/60000 [==============================] - 5s 90us/sample - loss: 0.0192 - acc: 0.9935\n",
            "Epoch 10/20\n",
            "60000/60000 [==============================] - 6s 92us/sample - loss: 0.0158 - acc: 0.9945\n",
            "Epoch 11/20\n",
            "60000/60000 [==============================] - 6s 92us/sample - loss: 0.0145 - acc: 0.9950\n",
            "Epoch 12/20\n",
            "60000/60000 [==============================] - 5s 88us/sample - loss: 0.0123 - acc: 0.9957\n",
            "Epoch 13/20\n",
            "60000/60000 [==============================] - 5s 91us/sample - loss: 0.0109 - acc: 0.9964\n",
            "Epoch 14/20\n",
            "60000/60000 [==============================] - 5s 89us/sample - loss: 0.0121 - acc: 0.9959\n",
            "Epoch 15/20\n",
            "60000/60000 [==============================] - 5s 89us/sample - loss: 0.0084 - acc: 0.9968\n",
            "Epoch 16/20\n",
            "60000/60000 [==============================] - 6s 93us/sample - loss: 0.0096 - acc: 0.9969\n",
            "Epoch 17/20\n",
            "60000/60000 [==============================] - 6s 102us/sample - loss: 0.0097 - acc: 0.9966\n",
            "Epoch 18/20\n",
            "60000/60000 [==============================] - 6s 97us/sample - loss: 0.0065 - acc: 0.9979\n",
            "Epoch 19/20\n",
            "60000/60000 [==============================] - 5s 89us/sample - loss: 0.0073 - acc: 0.9973\n",
            "Epoch 20/20\n",
            "60000/60000 [==============================] - 5s 89us/sample - loss: 0.0080 - acc: 0.9974\n"
          ],
          "name": "stdout"
        },
        {
          "output_type": "execute_result",
          "data": {
            "text/plain": [
              "<tensorflow.python.keras.callbacks.History at 0x7fcf9652bd30>"
            ]
          },
          "metadata": {
            "tags": []
          },
          "execution_count": 17
        }
      ]
    },
    {
      "cell_type": "code",
      "metadata": {
        "id": "VweaKvVdEaly",
        "colab_type": "code",
        "colab": {
          "base_uri": "https://localhost:8080/",
          "height": 52
        },
        "outputId": "30d3dbc2-bd76-405e-c04c-5ed34f9eca5d"
      },
      "source": [
        "val_loss, val_acc = model.evaluate(x_test, y_test)\n",
        "print(val_loss, val_acc)"
      ],
      "execution_count": 18,
      "outputs": [
        {
          "output_type": "stream",
          "text": [
            "10000/10000 [==============================] - 0s 42us/sample - loss: 0.1808 - acc: 0.9711\n",
            "0.18079828220027894 0.9711\n"
          ],
          "name": "stdout"
        }
      ]
    },
    {
      "cell_type": "code",
      "metadata": {
        "id": "x00EeTb6FcPR",
        "colab_type": "code",
        "colab": {}
      },
      "source": [
        "model.save('number_reader.model')"
      ],
      "execution_count": 0,
      "outputs": []
    },
    {
      "cell_type": "code",
      "metadata": {
        "id": "coPY9SOOFjDc",
        "colab_type": "code",
        "colab": {
          "base_uri": "https://localhost:8080/",
          "height": 159
        },
        "outputId": "7c4d52c1-8ee4-4ea7-b777-684987e6488d"
      },
      "source": [
        "new_model = tf.keras.models.load_model('number_reader.model')"
      ],
      "execution_count": 21,
      "outputs": [
        {
          "output_type": "stream",
          "text": [
            "WARNING:tensorflow:From /usr/local/lib/python3.6/dist-packages/tensorflow_core/python/ops/init_ops.py:97: calling GlorotUniform.__init__ (from tensorflow.python.ops.init_ops) with dtype is deprecated and will be removed in a future version.\n",
            "Instructions for updating:\n",
            "Call initializer instance with the dtype argument instead of passing it to the constructor\n",
            "WARNING:tensorflow:From /usr/local/lib/python3.6/dist-packages/tensorflow_core/python/ops/init_ops.py:97: calling Zeros.__init__ (from tensorflow.python.ops.init_ops) with dtype is deprecated and will be removed in a future version.\n",
            "Instructions for updating:\n",
            "Call initializer instance with the dtype argument instead of passing it to the constructor\n",
            "WARNING:tensorflow:Sequential models without an `input_shape` passed to the first layer cannot reload their optimizer state. As a result, your model isstarting with a freshly initialized optimizer.\n"
          ],
          "name": "stdout"
        }
      ]
    },
    {
      "cell_type": "code",
      "metadata": {
        "id": "-Na5G3QtFi-j",
        "colab_type": "code",
        "colab": {}
      },
      "source": [
        "predictions = new_model.predict(x_test)"
      ],
      "execution_count": 0,
      "outputs": []
    },
    {
      "cell_type": "code",
      "metadata": {
        "id": "FrOVTX1rF14p",
        "colab_type": "code",
        "colab": {}
      },
      "source": [
        "import numpy as np"
      ],
      "execution_count": 0,
      "outputs": []
    },
    {
      "cell_type": "code",
      "metadata": {
        "id": "jM8C5OXGF5wO",
        "colab_type": "code",
        "colab": {
          "base_uri": "https://localhost:8080/",
          "height": 35
        },
        "outputId": "2c04d07c-1605-4dcf-c424-4c32a699cb42"
      },
      "source": [
        "print(np.argmax((predictions[3])))"
      ],
      "execution_count": 30,
      "outputs": [
        {
          "output_type": "stream",
          "text": [
            "0\n"
          ],
          "name": "stdout"
        }
      ]
    },
    {
      "cell_type": "code",
      "metadata": {
        "id": "9jurYyerF_-j",
        "colab_type": "code",
        "colab": {
          "base_uri": "https://localhost:8080/",
          "height": 265
        },
        "outputId": "b2c7a532-474c-4894-fe53-3f4009f83f84"
      },
      "source": [
        "plt.imshow(x_test[3])\n",
        "plt.show()"
      ],
      "execution_count": 29,
      "outputs": [
        {
          "output_type": "display_data",
          "data": {
            "image/png": "[encoded data removed]",
            "text/plain": [
              "<Figure size 432x288 with 1 Axes>"
            ]
          },
          "metadata": {
            "tags": []
          }
        }
      ]
    }
  ]
}